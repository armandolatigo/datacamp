{
 "cells": [
  {
   "cell_type": "code",
   "execution_count": 1,
   "id": "c806b8ca",
   "metadata": {},
   "outputs": [
    {
     "name": "stdout",
     "output_type": "stream",
     "text": [
      "First90\n"
     ]
    },
    {
     "data": {
      "text/plain": [
       "'90'"
      ]
     },
     "execution_count": 1,
     "metadata": {},
     "output_type": "execute_result"
    }
   ],
   "source": [
    "# Programming With Mosh (LEARN PYTHON IN ONE HOUR)\n",
    "# Youtube \n",
    "\n",
    "\n",
    "input(\"First\")"
   ]
  },
  {
   "cell_type": "code",
   "execution_count": 2,
   "id": "49400aa3",
   "metadata": {},
   "outputs": [
    {
     "name": "stdout",
     "output_type": "stream",
     "text": [
      "Second38\n"
     ]
    },
    {
     "data": {
      "text/plain": [
       "'38'"
      ]
     },
     "execution_count": 2,
     "metadata": {},
     "output_type": "execute_result"
    }
   ],
   "source": [
    "input(\"Second\")"
   ]
  },
  {
   "cell_type": "code",
   "execution_count": 3,
   "id": "a2f490a5",
   "metadata": {},
   "outputs": [
    {
     "name": "stdout",
     "output_type": "stream",
     "text": [
      "First 38\n",
      "Second 92\n"
     ]
    },
    {
     "data": {
      "text/plain": [
       "-54"
      ]
     },
     "execution_count": 3,
     "metadata": {},
     "output_type": "execute_result"
    }
   ],
   "source": [
    "no1 = int(input(\"First \"))\n",
    "no2 = int(input(\"Second \"))\n",
    "answer = no1 - no2\n",
    "answer\n"
   ]
  },
  {
   "cell_type": "code",
   "execution_count": 4,
   "id": "43cbb1e7",
   "metadata": {},
   "outputs": [
    {
     "name": "stdout",
     "output_type": "stream",
     "text": [
      "First: 88\n",
      "Second: 49\n"
     ]
    },
    {
     "data": {
      "text/plain": [
       "137"
      ]
     },
     "execution_count": 4,
     "metadata": {},
     "output_type": "execute_result"
    }
   ],
   "source": [
    "first = input(\"First: \")\n",
    "second = input(\"Second: \")\n",
    "answer = int(first) + int(second)\n",
    "answer\n"
   ]
  },
  {
   "cell_type": "code",
   "execution_count": 5,
   "id": "d271e4ad",
   "metadata": {},
   "outputs": [
    {
     "data": {
      "text/plain": [
       "'PYTHON FOR BEGINNERS'"
      ]
     },
     "execution_count": 5,
     "metadata": {},
     "output_type": "execute_result"
    }
   ],
   "source": [
    "course = \"Python for Beginners\"\n",
    "course.upper()"
   ]
  },
  {
   "cell_type": "code",
   "execution_count": 6,
   "id": "d0d57bb2",
   "metadata": {},
   "outputs": [
    {
     "data": {
      "text/plain": [
       "3"
      ]
     },
     "execution_count": 6,
     "metadata": {},
     "output_type": "execute_result"
    }
   ],
   "source": [
    "#the letters are indexed (012345...)\n",
    "course.find('h')"
   ]
  },
  {
   "cell_type": "code",
   "execution_count": 23,
   "id": "028d6d0b",
   "metadata": {},
   "outputs": [
    {
     "name": "stdout",
     "output_type": "stream",
     "text": [
      "Weight: d\n",
      "K(g) or (L)bs: \n",
      "error\n"
     ]
    }
   ],
   "source": [
    "weight = input(\"Weight: \")\n",
    "unit = input(\"K(g) or (L)bs: \")\n",
    "\n",
    "if unit.upper() == \"L\":\n",
    "    converted = float(weight)/2.2046\n",
    "    print(\"Weight in Kg:\",round(converted,2))\n",
    "elif unit.upper() == \"K\":\n",
    "    converted = float(weight)*2.2046\n",
    "    print(\"Weight in Lbs:\",round(converted,2))\n",
    "else:\n",
    "    print(\"error\")\n",
    "\n",
    "    \n",
    "\n"
   ]
  },
  {
   "cell_type": "code",
   "execution_count": 3,
   "id": "84010096",
   "metadata": {},
   "outputs": [
    {
     "data": {
      "text/plain": [
       "[]"
      ]
     },
     "execution_count": 3,
     "metadata": {},
     "output_type": "execute_result"
    }
   ],
   "source": [
    "numbers = []\n",
    "#numbers = []\n",
    "for number in numbers:\n",
    "    number += 1\n",
    "    numbers.append(number)\n",
    "    if number == 10:\n",
    "        break\n",
    "numbers"
   ]
  },
  {
   "cell_type": "code",
   "execution_count": 29,
   "id": "5dfffcdc",
   "metadata": {},
   "outputs": [],
   "source": [
    "def person():\n",
    "    person = input(\"Who?: \")\n",
    "    print(f'Oh you mean {person}')"
   ]
  },
  {
   "cell_type": "code",
   "execution_count": 30,
   "id": "7c7a1b3c",
   "metadata": {},
   "outputs": [
    {
     "name": "stdout",
     "output_type": "stream",
     "text": [
      "Who?: Armando Latigo\n",
      "Oh you mean Armando Latigo\n"
     ]
    }
   ],
   "source": [
    "person()"
   ]
  },
  {
   "cell_type": "code",
   "execution_count": 31,
   "id": "5a956681",
   "metadata": {},
   "outputs": [],
   "source": [
    "def greet(name):\n",
    "    print(\"Hello\", name)"
   ]
  },
  {
   "cell_type": "code",
   "execution_count": 32,
   "id": "c020dfc3",
   "metadata": {},
   "outputs": [
    {
     "name": "stdout",
     "output_type": "stream",
     "text": [
      "Hello armando\n"
     ]
    }
   ],
   "source": [
    "greet(\"armando\")"
   ]
  },
  {
   "cell_type": "code",
   "execution_count": null,
   "id": "cd7c9c60",
   "metadata": {},
   "outputs": [],
   "source": []
  }
 ],
 "metadata": {
  "kernelspec": {
   "display_name": "PythonData",
   "language": "python",
   "name": "pythondata"
  },
  "language_info": {
   "codemirror_mode": {
    "name": "ipython",
    "version": 3
   },
   "file_extension": ".py",
   "mimetype": "text/x-python",
   "name": "python",
   "nbconvert_exporter": "python",
   "pygments_lexer": "ipython3",
   "version": "3.8.8"
  }
 },
 "nbformat": 4,
 "nbformat_minor": 5
}
